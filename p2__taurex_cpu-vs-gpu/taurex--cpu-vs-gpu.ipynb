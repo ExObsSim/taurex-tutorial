{
 "cells": [
  {
   "cell_type": "markdown",
   "id": "813dd8f4-048f-4712-8815-c326df940947",
   "metadata": {},
   "source": [
    "Starting to use taurex cuda"
   ]
  },
  {
   "cell_type": "code",
   "execution_count": 1,
   "id": "3b4f03cc-9350-45fd-a5ec-53f9c5bcba8b",
   "metadata": {
    "trusted": true
   },
   "outputs": [
    {
     "data": {
      "text/plain": [
       "'NVIDIA A40'"
      ]
     },
     "execution_count": 1,
     "metadata": {},
     "output_type": "execute_result"
    }
   ],
   "source": [
    "from pycuda.autoinit import device\n",
    "\n",
    "device.name()"
   ]
  },
  {
   "cell_type": "code",
   "execution_count": 2,
   "metadata": {},
   "outputs": [],
   "source": [
    "import taurex.log as lg\n",
    "\n",
    "lg.disableLogging()"
   ]
  },
  {
   "cell_type": "code",
   "execution_count": 3,
   "id": "0ae27907-5013-477b-9473-2b69f8d199de",
   "metadata": {
    "trusted": true
   },
   "outputs": [],
   "source": [
    "from taurex.parameter import ParameterParser\n",
    "\n",
    "pp = ParameterParser()"
   ]
  },
  {
   "cell_type": "markdown",
   "id": "82857a64-e070-4b4c-b6dd-93b809fe4045",
   "metadata": {},
   "source": [
    "CPU version"
   ]
  },
  {
   "cell_type": "code",
   "execution_count": 4,
   "id": "533f5a33-4a5e-4525-a56c-32a64493b34d",
   "metadata": {
    "trusted": true
   },
   "outputs": [],
   "source": [
    "pp.read(\"quickstart.par\")\n",
    "pp.setup_globals()\n",
    "\n",
    "tm = pp.generate_appropriate_model()\n",
    "tm.build()\n",
    "_ = tm.model()"
   ]
  },
  {
   "cell_type": "markdown",
   "id": "3b599e23-717e-4122-ab41-56f1dbe9e252",
   "metadata": {},
   "source": [
    "GPU version"
   ]
  },
  {
   "cell_type": "code",
   "execution_count": 5,
   "id": "198e1b15-153d-49bd-a954-189fcaa0ffa2",
   "metadata": {
    "trusted": true
   },
   "outputs": [],
   "source": [
    "pp.read(\"quickstart_gpu.par\")\n",
    "pp.setup_globals()\n",
    "\n",
    "tm_gpu = pp.generate_appropriate_model()\n",
    "tm_gpu.build()\n",
    "_ = tm_gpu.model()"
   ]
  },
  {
   "cell_type": "markdown",
   "id": "8ccf585b-1d3e-4df7-9601-2bbe6ed3031d",
   "metadata": {},
   "source": [
    "Comparing forward model execution times"
   ]
  },
  {
   "cell_type": "code",
   "execution_count": 6,
   "id": "48974986-f1aa-4cf3-a142-cc2365594fe4",
   "metadata": {
    "trusted": true
   },
   "outputs": [
    {
     "name": "stdout",
     "output_type": "stream",
     "text": [
      "175 ms ± 1.93 ms per loop (mean ± std. dev. of 7 runs, 10 loops each)\n",
      "10.4 ms ± 62.4 µs per loop (mean ± std. dev. of 7 runs, 100 loops each)\n"
     ]
    }
   ],
   "source": [
    "%timeit tm.model()\n",
    "%timeit tm_gpu.model()"
   ]
  },
  {
   "cell_type": "code",
   "execution_count": null,
   "id": "8be28e44-aef0-4ff5-b654-d0d9d7af08fc",
   "metadata": {
    "trusted": true
   },
   "outputs": [],
   "source": []
  }
 ],
 "metadata": {
  "kernelspec": {
   "display_name": "Python 3",
   "language": "python",
   "name": "python3"
  },
  "language_info": {
   "codemirror_mode": {
    "name": "ipython",
    "version": 3
   },
   "file_extension": ".py",
   "mimetype": "text/x-python",
   "name": "python",
   "nbconvert_exporter": "python",
   "pygments_lexer": "ipython3",
   "version": "3.8.17"
  }
 },
 "nbformat": 4,
 "nbformat_minor": 5
}
